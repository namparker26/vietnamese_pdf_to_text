{
  "nbformat": 4,
  "nbformat_minor": 0,
  "metadata": {
    "colab": {
      "provenance": []
    },
    "kernelspec": {
      "name": "python3",
      "display_name": "Python 3"
    },
    "language_info": {
      "name": "python"
    }
  },
  "cells": [
    {
      "cell_type": "code",
      "source": [
        "!pip install PyPDF2\n",
        "!pip install pytesseract\n",
        "!apt-get install tesseract-ocr\n",
        "\n",
        "!pip install pillow\n",
        "!pip install pdf2image\n",
        "!apt-get install poppler-utils\n",
        "!pip install pymupdf\n",
        "!sudo apt-get install tesseract-ocr-vie  # Install Vietnamese language pack for Tesseract\n",
        "!pip install PyPDF2 pytesseract opencv-python python-docx underthesea\n",
        "\n"
      ],
      "metadata": {
        "id": "7SYu2bmNQj_d"
      },
      "execution_count": null,
      "outputs": []
    },
    {
      "cell_type": "code",
      "execution_count": null,
      "metadata": {
        "id": "e4IJrw5kQcId"
      },
      "outputs": [],
      "source": [
        "# Import PyDrive and associated libraries.\n",
        "# This only needs to be done once per notebook.\n",
        "from pydrive.auth import GoogleAuth\n",
        "from pydrive.drive import GoogleDrive\n",
        "from google.colab import auth\n",
        "from oauth2client.client import GoogleCredentials\n",
        "from google.colab import drive\n",
        "import os\n",
        "import pandas as pd\n",
        "import gspread\n",
        "\n",
        "\n",
        "# Authenticate and create the PyDrive client.\n",
        "# This only needs to be done once per notebook.\n",
        "auth.authenticate_user()\n",
        "gauth = GoogleAuth()\n",
        "gauth.credentials = GoogleCredentials.get_application_default()\n",
        "drive = GoogleDrive(gauth)\n",
        "\n",
        "\n",
        "from google.auth import default\n",
        "creds, _ = default()\n",
        "gc = gspread.authorize(creds)\n",
        "\n",
        "\n",
        "from google.colab import drive\n",
        "import os\n",
        "import re\n",
        "import PyPDF2\n",
        "import pytesseract\n",
        "from PIL import Image\n",
        "from pdf2image import convert_from_path\n",
        "\n",
        "\n",
        "\n",
        "import fitz  # PyMuPDF\n",
        "import pytesseract\n",
        "from PIL import Image\n",
        "import io\n",
        "\n",
        "\n",
        "from underthesea import text_normalize\n",
        "pytesseract.pytesseract.tesseract_cmd = (r'/usr/bin/tesseract')\n",
        "\n",
        "\n"
      ]
    },
    {
      "cell_type": "code",
      "source": [
        "# Path to the folder in Google Drive\n",
        "folder_path = '/content/drive/MyDrive/Projects/PTS/Test OCR'\n",
        "\n",
        "# Get all file names in the folder\n",
        "file_names = [file for file in os.listdir(folder_path) if file.endswith('.PDF')]\n",
        "\n",
        "df = pd.DataFrame(file_names, columns=['File Name'])\n",
        "\n",
        "\n",
        "# Get all PDF file names in the folder\n",
        "pdf_files = [file for file in os.listdir(folder_path) if file.endswith('.PDF')]\n",
        "print (pdf_files)\n",
        "\n",
        "\n",
        "# # Open the Google Sheet (replace 'Sheet Name' with the actual sheet name)\n",
        "# sheet_name = 'PDF Data'\n",
        "# worksheet = gc.open(sheet_name).sheet1\n",
        "\n",
        "# # Convert the DataFrame to a list of lists for writing to the sheet\n",
        "# data = df.values.tolist()\n",
        "\n",
        "# # Write the data to the sheet\n",
        "# worksheet.update('A1', data)\n",
        "\n",
        "# print(\"Data successfully added to the Google Sheet.\")"
      ],
      "metadata": {
        "colab": {
          "base_uri": "https://localhost:8080/"
        },
        "id": "rFvhb48gQdUZ",
        "outputId": "90452220-dd0e-4c3c-f0bc-6d0e7ca8a0fe"
      },
      "execution_count": null,
      "outputs": [
        {
          "output_type": "stream",
          "name": "stdout",
          "text": [
            "['PPS-FIN-PR01.PDF', 'TEST-PPS-FIN-PR01.PDF']\n"
          ]
        }
      ]
    },
    {
      "cell_type": "code",
      "source": [
        "\n",
        "# Specify your folder ID here\n",
        "folder_id = '1xMX3Yk7YtkYO7lYHL6rLEMtk36a4LGKR'  # Replace with your folder ID\n",
        "# Function to perform OCR on a single page\n",
        "def ocr_page(page):\n",
        "    pix = page.get_pixmap()\n",
        "    img = Image.open(io.BytesIO(pix.tobytes()))\n",
        "    text = pytesseract.image_to_string(img, lang='vie')\n",
        "    underthesea_normalized_text = text_normalize(text)\n",
        "    return underthesea_normalized_text\n",
        "\n",
        "# Function to perform OCR on the entire document\n",
        "def ocr_document(pdf_path):\n",
        "    doc = fitz.open(pdf_path)\n",
        "    text = ''\n",
        "    for page_num in range(len(doc)):\n",
        "        page = doc.load_page(page_num)\n",
        "        text += ocr_page(page) + '\\n'\n",
        "    return text\n",
        "\n",
        "\n",
        "\n",
        "def convert_pdf_text (file_name):\n",
        "  file_path = os.path.join(folder_path, file_name)\n",
        "\n",
        "  # Convert each page of the PDF to an image and perform OCR\n",
        "  pages = convert_from_path(file_path)\n",
        "\n",
        "  extracted_text = ocr_document(file_path)\n",
        "\n",
        "  # Print the extracted text\n",
        "  return (extracted_text)\n",
        "\n",
        "def save_to_file (file_name, extracted_text):\n",
        "  drive = GoogleDrive(gauth)\n",
        "\n",
        "  # Create & upload a text file in the specified folder.\n",
        "  if 'PDF' in file_name:\n",
        "    title = file_name.replace('PDF', 'text')\n",
        "  else:\n",
        "    title = file_name\n",
        "\n",
        "  file_metadata = {\n",
        "      'title': title,\n",
        "      'parents': [{'id': folder_id}]\n",
        "  }\n",
        "  uploaded = drive.CreateFile(file_metadata)\n",
        "  uploaded.SetContentString(extracted_text)\n",
        "  uploaded.Upload()\n",
        "  print('Uploaded file with ID {}'.format(uploaded.get('id')))"
      ],
      "metadata": {
        "id": "NWosoq7yTfgp"
      },
      "execution_count": null,
      "outputs": []
    },
    {
      "cell_type": "code",
      "source": [
        "for file in pdf_files:\n",
        "  print (file)\n"
      ],
      "metadata": {
        "colab": {
          "base_uri": "https://localhost:8080/"
        },
        "id": "4SKHhmKDmmvw",
        "outputId": "78850c6b-1248-465e-a1ac-99e4a7f40e72"
      },
      "execution_count": null,
      "outputs": [
        {
          "output_type": "stream",
          "name": "stdout",
          "text": [
            "PPS-FIN-PR01.PDF\n",
            "TEST-PPS-FIN-PR01.PDF\n"
          ]
        }
      ]
    },
    {
      "cell_type": "code",
      "source": [
        "file_name = input(\"Enter the title for your file: \")\n",
        "\n",
        "extracted_text = convert_pdf_text(file_name)\n"
      ],
      "metadata": {
        "colab": {
          "base_uri": "https://localhost:8080/"
        },
        "id": "XzCtAsb-ocMa",
        "outputId": "829eab1d-148d-4e54-b9e8-71e7e9f6ae4f"
      },
      "execution_count": null,
      "outputs": [
        {
          "name": "stdout",
          "output_type": "stream",
          "text": [
            "Enter the title for your file: TEST-PPS-FIN-PR01.PDF\n"
          ]
        }
      ]
    },
    {
      "cell_type": "code",
      "source": [
        "save_to_file(file_name, extracted_text)\n"
      ],
      "metadata": {
        "colab": {
          "base_uri": "https://localhost:8080/"
        },
        "id": "5ShGyvuPmrdY",
        "outputId": "8a3bcaa5-e566-4e68-de69-573c7db80074"
      },
      "execution_count": null,
      "outputs": [
        {
          "output_type": "stream",
          "name": "stdout",
          "text": [
            "Uploaded file with ID 1dhDPEA-pOjQElDoy5W40ukZUPagAnShI\n"
          ]
        }
      ]
    },
    {
      "cell_type": "markdown",
      "source": [
        "**Testing Text Transformation with CHAT GPT API**"
      ],
      "metadata": {
        "id": "kWxfdTV9gwxF"
      }
    }
  ]
}